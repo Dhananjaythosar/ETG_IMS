{
 "cells": [
  {
   "cell_type": "code",
   "execution_count": 1,
   "id": "51fd47c4",
   "metadata": {},
   "outputs": [],
   "source": [
    "import time \n",
    "import json"
   ]
  },
  {
   "cell_type": "code",
   "execution_count": 2,
   "id": "50b70920",
   "metadata": {},
   "outputs": [],
   "source": [
    "Products={ 1101:{\"name\":\"Maggie\",\"price\":12,\"Quantity\":10600,\"expriry_date\":\"12/3/2022\"},\n",
    "  1102:{\"name\":\"Fruti\",\"price\":10,\"Quantity\":12435,\"expriry_date\":\"10/4/2022\" },\n",
    "  1103:{\"name\":\"Biscuit\",\"price\":10,\"Quantity\":46945,\"expriry_date\":\"12/4/2022\" },\n",
    "  1104:{\"name\":\"Lays\",\"price\":10,\"Quantity\":65678,\"expriry_date\":\"9/8/2022\" },\n",
    "  1105:{\"name\":\"Noodles\",\"price\":15,\"Quantity\":45219,\"expriry_date\":\"19/7/2022\" },\n",
    "  1106:{\"name\":\"Slice\",\"price\":35,\"Quantity\":74444,\"expriry_date\":\"2/11/2022\" },\n",
    "  1107:{\"name\":\"Coca Cola\",\"price\":45,\"Quantity\":25904,\"expriry_date\":\"25/12/2022\" },\n",
    "  1108:{\"name\":\"Parle G\",\"price\":5,\"Quantity\":65467,\"expriry_date\":\"6/5/2022\"},\n",
    "  1109:{\"name\":\"Good day\",\"price\":56565,\"Quantity\":44575,\"expriry_date\":\"12/12/21\" },\n",
    "  1110:{\"name\":\"Kurkure\",\"price\":5,\"Quantity\":24565,\"expriry_date\":\"3/2/2021\"},\n",
    "  1111:{\"name\":\"Kellogg\",\"price\":50,\"Quantity\":90845,\"expriry_date\":\"30/12/2021\" },\n",
    "  1112:{\"name\":\"Coffee\",\"price\":30,\"Quantity\":62225,\"expriry_date\":\"29/11/2022\" },\n",
    "  1113:{\"name\":\"Tea bag\",\"price\":20,\"Quantity\":76545,\"expriry_date\":\"1/5/2022\" },\n",
    "  1114:{\"name\":\"Milk\",\"price\":60,\"Quantity\":62455,\"expriry_date\":\"12/3/2022\" },\n",
    "  1115:{\"name\":\"Icecream\",\"price\":100,\"Quantity\":12345,\"expriry_date\":\"12/4/2022\" },\n",
    "  1116:{\"name\":\"Cheez\",\"price\":120,\"Quantity\":12265,\"expriry_date\":\"16/8/2022\" },\n",
    "  1117:{\"name\":\"Butter\",\"price\":110,\"Quantity\":98745,\"expriry_date\":\"14/1/2022\" },\n",
    "  1118:{\"name\":\"Colgate\",\"price\":68,\"Quantity\":12365,\"expriry_date\":\"19/3/2022\"},\n",
    "  1119:{\"name\":\"Brush\",\"price\":45,\"Quantity\":87965,\"expriry_date\":\"11/8/2022\" },\n",
    "  1120:{\"name\":\"Dryfruits\",\"price\":200,\"Quantity\":89645,\"expriry_date\":\"2/11/2022\"},\n",
    "  1121:{\"name\":\"Oil\",\"price\":250,\"Quantity\":65456,\"expriry_date\":\"7/1/2022\" },\n",
    "  1122:{\"name\":\"Coconut oil\",\"price\":250,\"Quantity\":70945,\"expriry_date\":\"5/2/2022\"},\n",
    "  1123:{\"name\":\"Rice\",\"price\":300,\"Quantity\":98766,\"expriry_date\":\"7/9/2022\" },\n",
    "  1124:{\"name\":\"Paneer\",\"price\":89,\"Quantity\":24578,\"expriry_date\":\"18/1/2022\"},\n",
    "  1125:{\"name\":\"Pickle\",\"price\":70,\"Quantity\":12365,\"expriry_date\":\"6/9/2022\"},\n",
    "  1126:{\"name\":\"Chocolate\",\"price\":90,\"Quantity\":98654,\"expriry_date\":\"3/8/2022\" },\n",
    "  1127:{\"name\":\"DairyMilk\",\"price\":60,\"Quantity\":34597,\"expriry_date\":\"18/12/2022\"},\n",
    "  1128:{\"name\":\"Kitkat\",\"price\":50,\"Quantity\":34567,\"expriry_date\":\"11/7/2022\" },\n",
    "  1129:{\"name\":\"Chocos\",\"price\":45,\"Quantity\":98356,\"expriry_date\":\"7/3/2022\"},\n",
    "  1130:{\"name\":\"Bornvita\",\"price\":100,\"Quantity\":12345,\"expriry_date\":\"1/5/2022\" }}"
   ]
  },
  {
   "cell_type": "code",
   "execution_count": 3,
   "id": "fb76378d",
   "metadata": {},
   "outputs": [],
   "source": [
    "BIll={}\n",
    "l = []"
   ]
  },
  {
   "cell_type": "code",
   "execution_count": 4,
   "id": "4dc6a509",
   "metadata": {},
   "outputs": [],
   "source": [
    "def bill():\n",
    "    for a in l:\n",
    "        c = 1\n",
    "        if l.count(a)>1:\n",
    "            c+=1\n",
    "            key = Products[a][\"name\"]\n",
    "            value = {\"Price\": Products[a][\"price\"], \"expriry_date\": Products[a][\"expriry_date\"], \"Quantity purchase\":c,\"Total price to pay\":Products[a][\"price\"]*c, \"Time of Purchase\":Time}\n",
    "            BIll[key] = value\n",
    "        else:\n",
    "            key = Products[a][\"name\"]\n",
    "            value = {\"Price\": Products[a][\"price\"], \"expriry_date\": Products[a][\"expriry_date\"], \"Quantity purchase\":1,\"Total price to pay\":Products[a][\"price\"], \"Time of Purchase\":Time}\n",
    "            BIll[key] = value\n",
    "        c = 1\n",
    "    print(BIll)"
   ]
  },
  {
   "cell_type": "code",
   "execution_count": 5,
   "id": "9fe3e103",
   "metadata": {},
   "outputs": [
    {
     "name": "stdout",
     "output_type": "stream",
     "text": [
      "--------------------------------------------\n",
      "             Welcome to DJ Mart             \n",
      "--------------------MENU--------------------\n",
      "1.Show Items\n",
      "2.Buy Items\n",
      "3.To Show your cart\n",
      "4.Exit\n",
      "Enter your choice:2\n",
      "Enter the Id of the product which you want to buy:1101\n",
      "Name of your Product: Maggie\n",
      "Price of your Product: 12\n",
      "Expriry date of your Product: 12/3/2022\n",
      "--------------------MENU--------------------\n",
      "1.Show Items\n",
      "2.Buy Items\n",
      "3.To Show your cart\n",
      "4.Exit\n",
      "Enter your choice:2\n",
      "Enter the Id of the product which you want to buy:1101\n",
      "Name of your Product: Maggie\n",
      "Price of your Product: 12\n",
      "Expriry date of your Product: 12/3/2022\n",
      "--------------------MENU--------------------\n",
      "1.Show Items\n",
      "2.Buy Items\n",
      "3.To Show your cart\n",
      "4.Exit\n",
      "Enter your choice:2\n",
      "Enter the Id of the product which you want to buy:1102\n",
      "Name of your Product: Fruti\n",
      "Price of your Product: 10\n",
      "Expriry date of your Product: 10/4/2022\n",
      "--------------------MENU--------------------\n",
      "1.Show Items\n",
      "2.Buy Items\n",
      "3.To Show your cart\n",
      "4.Exit\n",
      "Enter your choice:3\n",
      "{'Maggie': {'Price': 12, 'expriry_date': '12/3/2022', 'Quantity purchase': 2, 'Total price to pay': 24, 'Time of Purchase': 'Thu Sep  2 22:47:19 2021'}, 'Fruti': {'Price': 10, 'expriry_date': '10/4/2022', 'Quantity purchase': 1, 'Total price to pay': 10, 'Time of Purchase': 'Thu Sep  2 22:47:19 2021'}}\n",
      "--------------------MENU--------------------\n",
      "1.Show Items\n",
      "2.Buy Items\n",
      "3.To Show your cart\n",
      "4.Exit\n",
      "Enter your choice:4\n",
      "Exiting.......\n"
     ]
    }
   ],
   "source": [
    "if __name__ == '__main__':\n",
    "    \n",
    "    print(\"--------------------------------------------\")\n",
    "    print(\"             Welcome to DJ Mart             \")\n",
    "    \n",
    "    while (True):\n",
    "        print(\"--------------------MENU--------------------\")\n",
    "        print(\"1.Show Items\\n2.Buy Items\\n3.To Show your cart\\n4.Exit\")\n",
    "\n",
    "        ch = int(input(\"Enter your choice:\"))\n",
    "        if ch == 1:\n",
    "            for i in Products:\n",
    "                print(i, \":\", Products[i][\"name\"])\n",
    "                \n",
    "        elif ch == 2:\n",
    "            a = int(input(\"Enter the Id of the product which you want to buy:\"))\n",
    "            l.append(a)\n",
    "            \n",
    "            if ((Products[a][\"Quantity\"]) != 0):\n",
    "                print(\"Name of your Product:\", Products[a][\"name\"])\n",
    "                print(\"Price of your Product:\", Products[a][\"price\"])\n",
    "                print(\"Expriry date of your Product:\", Products[a][\"expriry_date\"])\n",
    "            else:\n",
    "                print(\"Sorry, the item is out of stock!\") \n",
    "                \n",
    "            Products[a][\"Quantity\"] = Products[a][\"Quantity\"] - 1\n",
    "            Time = time.ctime()\n",
    "            \n",
    "        elif ch == 3:\n",
    "            bill()\n",
    "            \n",
    "        elif ch == 4:\n",
    "            print(\"Exiting.......\")\n",
    "            break\n",
    "            \n",
    "        else:\n",
    "            print(\"Please Enter the right choice\")"
   ]
  },
  {
   "cell_type": "code",
   "execution_count": 6,
   "id": "43971965",
   "metadata": {},
   "outputs": [],
   "source": [
    "Records = Products"
   ]
  },
  {
   "cell_type": "code",
   "execution_count": 7,
   "id": "5daa7428",
   "metadata": {},
   "outputs": [],
   "source": [
    "js = json.dumps(Products)"
   ]
  },
  {
   "cell_type": "code",
   "execution_count": 8,
   "id": "ec92fbc5",
   "metadata": {},
   "outputs": [
    {
     "data": {
      "text/plain": [
       "'{\"1101\": {\"name\": \"Maggie\", \"price\": 12, \"Quantity\": 10598, \"expriry_date\": \"12/3/2022\"}, \"1102\": {\"name\": \"Fruti\", \"price\": 10, \"Quantity\": 12434, \"expriry_date\": \"10/4/2022\"}, \"1103\": {\"name\": \"Biscuit\", \"price\": 10, \"Quantity\": 46945, \"expriry_date\": \"12/4/2022\"}, \"1104\": {\"name\": \"Lays\", \"price\": 10, \"Quantity\": 65678, \"expriry_date\": \"9/8/2022\"}, \"1105\": {\"name\": \"Noodles\", \"price\": 15, \"Quantity\": 45219, \"expriry_date\": \"19/7/2022\"}, \"1106\": {\"name\": \"Slice\", \"price\": 35, \"Quantity\": 74444, \"expriry_date\": \"2/11/2022\"}, \"1107\": {\"name\": \"Coca Cola\", \"price\": 45, \"Quantity\": 25904, \"expriry_date\": \"25/12/2022\"}, \"1108\": {\"name\": \"Parle G\", \"price\": 5, \"Quantity\": 65467, \"expriry_date\": \"6/5/2022\"}, \"1109\": {\"name\": \"Good day\", \"price\": 56565, \"Quantity\": 44575, \"expriry_date\": \"12/12/21\"}, \"1110\": {\"name\": \"Kurkure\", \"price\": 5, \"Quantity\": 24565, \"expriry_date\": \"3/2/2021\"}, \"1111\": {\"name\": \"Kellogg\", \"price\": 50, \"Quantity\": 90845, \"expriry_date\": \"30/12/2021\"}, \"1112\": {\"name\": \"Coffee\", \"price\": 30, \"Quantity\": 62225, \"expriry_date\": \"29/11/2022\"}, \"1113\": {\"name\": \"Tea bag\", \"price\": 20, \"Quantity\": 76545, \"expriry_date\": \"1/5/2022\"}, \"1114\": {\"name\": \"Milk\", \"price\": 60, \"Quantity\": 62455, \"expriry_date\": \"12/3/2022\"}, \"1115\": {\"name\": \"Icecream\", \"price\": 100, \"Quantity\": 12345, \"expriry_date\": \"12/4/2022\"}, \"1116\": {\"name\": \"Cheez\", \"price\": 120, \"Quantity\": 12265, \"expriry_date\": \"16/8/2022\"}, \"1117\": {\"name\": \"Butter\", \"price\": 110, \"Quantity\": 98745, \"expriry_date\": \"14/1/2022\"}, \"1118\": {\"name\": \"Colgate\", \"price\": 68, \"Quantity\": 12365, \"expriry_date\": \"19/3/2022\"}, \"1119\": {\"name\": \"Brush\", \"price\": 45, \"Quantity\": 87965, \"expriry_date\": \"11/8/2022\"}, \"1120\": {\"name\": \"Dryfruits\", \"price\": 200, \"Quantity\": 89645, \"expriry_date\": \"2/11/2022\"}, \"1121\": {\"name\": \"Oil\", \"price\": 250, \"Quantity\": 65456, \"expriry_date\": \"7/1/2022\"}, \"1122\": {\"name\": \"Coconut oil\", \"price\": 250, \"Quantity\": 70945, \"expriry_date\": \"5/2/2022\"}, \"1123\": {\"name\": \"Rice\", \"price\": 300, \"Quantity\": 98766, \"expriry_date\": \"7/9/2022\"}, \"1124\": {\"name\": \"Paneer\", \"price\": 89, \"Quantity\": 24578, \"expriry_date\": \"18/1/2022\"}, \"1125\": {\"name\": \"Pickle\", \"price\": 70, \"Quantity\": 12365, \"expriry_date\": \"6/9/2022\"}, \"1126\": {\"name\": \"Chocolate\", \"price\": 90, \"Quantity\": 98654, \"expriry_date\": \"3/8/2022\"}, \"1127\": {\"name\": \"DairyMilk\", \"price\": 60, \"Quantity\": 34597, \"expriry_date\": \"18/12/2022\"}, \"1128\": {\"name\": \"Kitkat\", \"price\": 50, \"Quantity\": 34567, \"expriry_date\": \"11/7/2022\"}, \"1129\": {\"name\": \"Chocos\", \"price\": 45, \"Quantity\": 98356, \"expriry_date\": \"7/3/2022\"}, \"1130\": {\"name\": \"Bornvita\", \"price\": 100, \"Quantity\": 12345, \"expriry_date\": \"1/5/2022\"}}'"
      ]
     },
     "execution_count": 8,
     "metadata": {},
     "output_type": "execute_result"
    }
   ],
   "source": [
    "js"
   ]
  },
  {
   "cell_type": "code",
   "execution_count": 11,
   "id": "1373a5a5",
   "metadata": {},
   "outputs": [],
   "source": [
    "fd = open(\"Products.jason\",\"w\")\n",
    "fd.write(js)\n",
    "fd.close()"
   ]
  }
 ],
 "metadata": {
  "kernelspec": {
   "display_name": "Python 3",
   "language": "python",
   "name": "python3"
  },
  "language_info": {
   "codemirror_mode": {
    "name": "ipython",
    "version": 3
   },
   "file_extension": ".py",
   "mimetype": "text/x-python",
   "name": "python",
   "nbconvert_exporter": "python",
   "pygments_lexer": "ipython3",
   "version": "3.8.8"
  }
 },
 "nbformat": 4,
 "nbformat_minor": 5
}
